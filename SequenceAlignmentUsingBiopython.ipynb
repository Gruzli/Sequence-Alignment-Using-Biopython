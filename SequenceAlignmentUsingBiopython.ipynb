{
 "cells": [
  {
   "cell_type": "code",
   "execution_count": 1,
   "metadata": {},
   "outputs": [
    {
     "name": "stdout",
     "output_type": "stream",
     "text": [
      "Requirement already satisfied: BioPython in c:\\users\\hp\\appdata\\local\\programs\\python\\python311\\lib\\site-packages (1.83)Note: you may need to restart the kernel to use updated packages.\n",
      "\n",
      "Requirement already satisfied: numpy in c:\\users\\hp\\appdata\\local\\programs\\python\\python311\\lib\\site-packages (from BioPython) (1.25.2)\n"
     ]
    },
    {
     "name": "stderr",
     "output_type": "stream",
     "text": [
      "\n",
      "[notice] A new release of pip is available: 23.1.2 -> 24.0\n",
      "[notice] To update, run: python.exe -m pip install --upgrade pip\n"
     ]
    }
   ],
   "source": [
    "%pip install BioPython"
   ]
  },
  {
   "cell_type": "code",
   "execution_count": 3,
   "metadata": {},
   "outputs": [],
   "source": [
    "from Bio.SeqUtils import Seq"
   ]
  },
  {
   "cell_type": "code",
   "execution_count": 9,
   "metadata": {},
   "outputs": [
    {
     "name": "stdout",
     "output_type": "stream",
     "text": [
      "AGTGCTAGCTCGCAGTACG\n",
      "GTAGCAGTCTCGACGTACG\n"
     ]
    }
   ],
   "source": [
    "SeqA = (\"AGTGCTAGCTCGCAGTACG\")\n",
    "SeqB = (\"GTAGCAGTCTCGACGTACG\")\n",
    "\n",
    "print(SeqA)\n",
    "print(SeqB)"
   ]
  },
  {
   "cell_type": "code",
   "execution_count": null,
   "metadata": {},
   "outputs": [],
   "source": [
    "# terminology\n",
    "# 1. match      -> |    -> kedua huruf sama\n",
    "# 2. mismatch   -> .    -> kedua huruf berbeda\n",
    "# 3. gap        -> -    -> ada huruf yang tidak ada di salah satu sequence"
   ]
  },
  {
   "cell_type": "code",
   "execution_count": 7,
   "metadata": {},
   "outputs": [],
   "source": [
    "# Import Alignment module\n",
    "from Bio import pairwise2\n",
    "from Bio.pairwise2 import format_alignment"
   ]
  },
  {
   "cell_type": "code",
   "execution_count": 13,
   "metadata": {},
   "outputs": [
    {
     "name": "stdout",
     "output_type": "stream",
     "text": [
      "2 GT-GCTAG-CTCGCA-GTAC\n",
      "  || || || |||| | ||||\n",
      "1 GTAGC-AGTCTCG-ACGTAC\n",
      "  Score=15\n",
      "\n",
      "2 GT-GCTAG-CTCG-CAGTAC\n",
      "  || || || |||| | ||||\n",
      "1 GTAGC-AGTCTCGAC-GTAC\n",
      "  Score=15\n",
      "\n"
     ]
    }
   ],
   "source": [
    "SeqA = \"AGTGCTAGCTCGCAGTACG\"\n",
    "SeqB = \"GTAGCAGTCTCGACGTAC\"\n",
    "\n",
    "locals = pairwise2.align.localxx(SeqA, SeqB)\n",
    "\n",
    "for x in locals:\n",
    "    print(format_alignment(*x))"
   ]
  },
  {
   "cell_type": "code",
   "execution_count": 14,
   "metadata": {},
   "outputs": [
    {
     "name": "stdout",
     "output_type": "stream",
     "text": [
      "AGT-GCTAG-CTCGCA-GTACG\n",
      " || || || |||| | |||| \n",
      "-GTAGC-AGTCTCG-ACGTAC-\n",
      "  Score=15\n",
      "\n",
      "AGT-GCTAG-CTCG-CAGTACG\n",
      " || || || |||| | |||| \n",
      "-GTAGC-AGTCTCGAC-GTAC-\n",
      "  Score=15\n",
      "\n"
     ]
    }
   ],
   "source": [
    "# Global alignment\n",
    "# membandingkan 2 sequence yang panjangnya sama\n",
    "globals = pairwise2.align.globalxx(SeqA, SeqB)\n",
    "\n",
    "for x in globals:\n",
    "    print(format_alignment(*x))"
   ]
  },
  {
   "cell_type": "code",
   "execution_count": 15,
   "metadata": {},
   "outputs": [
    {
     "name": "stdout",
     "output_type": "stream",
     "text": [
      "2 GT-GCTAG-CTCGCA-GTAC\n",
      "  || || || |||| | ||||\n",
      "1 GTAGC-AGTCTCG-ACGTAC\n",
      "  Score=27.5\n",
      "\n",
      "2 GT-GCTAG-CTCG-CAGTAC\n",
      "  || || || |||| | ||||\n",
      "1 GTAGC-AGTCTCGAC-GTAC\n",
      "  Score=27.5\n",
      "\n"
     ]
    }
   ],
   "source": [
    "# xx -> default value\n",
    "# mx -> custom match, mismatch\n",
    "# ms -> custom match, mismatch, gap start, gap extend\n",
    "\n",
    "locals2 = pairwise2.align.localms(SeqA, SeqB, 2, -1, -0.5, -0.1)\n",
    "\n",
    "for x in locals2:\n",
    "    print(format_alignment(*x))"
   ]
  },
  {
   "cell_type": "code",
   "execution_count": 23,
   "metadata": {},
   "outputs": [],
   "source": [
    "# similarity analysis\n",
    "# cek apakah kedua sequence tersebut mirip atau tidak\n",
    "\n",
    "# hamming distance\n",
    "def hamming_distance(seq1, seq2):\n",
    "    n = [] # list untuk menampung posisi yang berbeda\n",
    "    for (x, y) in zip(seq1, seq2):\n",
    "        if x != y:\n",
    "            n.append((x, y))\n",
    "    return n\n",
    "\n",
    "def hamming_distance2(seq1, seq2):\n",
    "    n = 0\n",
    "    for (x, y) in zip(seq1, seq2):\n",
    "        if x != y:\n",
    "            n += 1\n",
    "    return n"
   ]
  },
  {
   "cell_type": "code",
   "execution_count": 24,
   "metadata": {},
   "outputs": [
    {
     "name": "stdout",
     "output_type": "stream",
     "text": [
      "[('A', 'G'), ('G', 'T'), ('T', 'A'), ('T', 'A'), ('A', 'G'), ('G', 'T'), ('C', 'A'), ('A', 'C')]\n",
      "8\n"
     ]
    }
   ],
   "source": [
    "print(hamming_distance(SeqA, SeqB))\n",
    "print(hamming_distance2(SeqA, SeqB))"
   ]
  },
  {
   "cell_type": "code",
   "execution_count": 25,
   "metadata": {},
   "outputs": [
    {
     "name": "stdout",
     "output_type": "stream",
     "text": [
      "Collecting python-Levenshtein\n",
      "  Downloading python_Levenshtein-0.25.1-py3-none-any.whl (9.4 kB)\n",
      "Collecting Levenshtein==0.25.1 (from python-Levenshtein)\n",
      "  Downloading Levenshtein-0.25.1-cp311-cp311-win_amd64.whl (98 kB)\n",
      "                                              0.0/98.4 kB ? eta -:--:--\n",
      "     -----------                            30.7/98.4 kB 640.0 kB/s eta 0:00:01\n",
      "     -----------                            30.7/98.4 kB 640.0 kB/s eta 0:00:01\n",
      "     -----------                            30.7/98.4 kB 640.0 kB/s eta 0:00:01\n",
      "     -----------------------                61.4/98.4 kB 465.5 kB/s eta 0:00:01\n",
      "     -----------------------                61.4/98.4 kB 465.5 kB/s eta 0:00:01\n",
      "     -----------------------                61.4/98.4 kB 465.5 kB/s eta 0:00:01\n",
      "     -----------------------                61.4/98.4 kB 465.5 kB/s eta 0:00:01\n",
      "     -----------------------                61.4/98.4 kB 465.5 kB/s eta 0:00:01\n",
      "     -----------------------                61.4/98.4 kB 465.5 kB/s eta 0:00:01\n",
      "     -----------------------                61.4/98.4 kB 465.5 kB/s eta 0:00:01\n",
      "     -----------------------                61.4/98.4 kB 465.5 kB/s eta 0:00:01\n",
      "     -----------------------                61.4/98.4 kB 465.5 kB/s eta 0:00:01\n",
      "     -----------------------                61.4/98.4 kB 465.5 kB/s eta 0:00:01\n",
      "     -----------------------                61.4/98.4 kB 465.5 kB/s eta 0:00:01\n",
      "     -----------------------------------    92.2/98.4 kB 131.1 kB/s eta 0:00:01\n",
      "     -------------------------------------- 98.4/98.4 kB 137.5 kB/s eta 0:00:00\n",
      "Collecting rapidfuzz<4.0.0,>=3.8.0 (from Levenshtein==0.25.1->python-Levenshtein)\n",
      "  Downloading rapidfuzz-3.9.0-cp311-cp311-win_amd64.whl (1.7 MB)\n",
      "                                              0.0/1.7 MB ? eta -:--:--\n",
      "                                              0.0/1.7 MB ? eta -:--:--\n",
      "                                              0.0/1.7 MB ? eta -:--:--\n",
      "                                              0.0/1.7 MB ? eta -:--:--\n",
      "                                              0.0/1.7 MB ? eta -:--:--\n",
      "                                              0.0/1.7 MB ? eta -:--:--\n",
      "                                              0.0/1.7 MB ? eta -:--:--\n",
      "                                              0.0/1.7 MB ? eta -:--:--\n",
      "                                              0.0/1.7 MB ? eta -:--:--\n",
      "     -                                        0.1/1.7 MB 163.6 kB/s eta 0:00:10\n",
      "     -                                        0.1/1.7 MB 163.6 kB/s eta 0:00:10\n",
      "     --                                       0.1/1.7 MB 261.9 kB/s eta 0:00:06\n",
      "     --                                       0.1/1.7 MB 261.9 kB/s eta 0:00:06\n",
      "     --                                       0.1/1.7 MB 261.9 kB/s eta 0:00:06\n",
      "     ---                                      0.1/1.7 MB 250.2 kB/s eta 0:00:07\n",
      "     ---                                      0.1/1.7 MB 250.2 kB/s eta 0:00:07\n",
      "     ----                                     0.2/1.7 MB 268.6 kB/s eta 0:00:06\n",
      "     ----                                     0.2/1.7 MB 268.6 kB/s eta 0:00:06\n",
      "     ----                                     0.2/1.7 MB 276.8 kB/s eta 0:00:06\n",
      "     -----                                    0.2/1.7 MB 292.6 kB/s eta 0:00:05\n",
      "     -----                                    0.2/1.7 MB 292.6 kB/s eta 0:00:05\n",
      "     ------                                   0.3/1.7 MB 302.3 kB/s eta 0:00:05\n",
      "     ------                                   0.3/1.7 MB 315.4 kB/s eta 0:00:05\n",
      "     ------                                   0.3/1.7 MB 315.4 kB/s eta 0:00:05\n",
      "     ------                                   0.3/1.7 MB 315.4 kB/s eta 0:00:05\n",
      "     ------                                   0.3/1.7 MB 315.4 kB/s eta 0:00:05\n",
      "     ------                                   0.3/1.7 MB 315.4 kB/s eta 0:00:05\n",
      "     ------                                   0.3/1.7 MB 315.4 kB/s eta 0:00:05\n",
      "     ------                                   0.3/1.7 MB 315.4 kB/s eta 0:00:05\n",
      "     ------                                   0.3/1.7 MB 315.4 kB/s eta 0:00:05\n",
      "     -------                                  0.3/1.7 MB 240.5 kB/s eta 0:00:06\n",
      "     -------                                  0.3/1.7 MB 240.5 kB/s eta 0:00:06\n",
      "     -------                                  0.3/1.7 MB 239.0 kB/s eta 0:00:06\n",
      "     --------                                 0.4/1.7 MB 256.0 kB/s eta 0:00:06\n",
      "     --------                                 0.4/1.7 MB 256.0 kB/s eta 0:00:06\n",
      "     ----------                               0.4/1.7 MB 296.0 kB/s eta 0:00:05\n",
      "     ----------                               0.4/1.7 MB 296.0 kB/s eta 0:00:05\n",
      "     ----------                               0.4/1.7 MB 296.0 kB/s eta 0:00:05\n",
      "     -----------                              0.5/1.7 MB 294.8 kB/s eta 0:00:05\n",
      "     -----------                              0.5/1.7 MB 293.3 kB/s eta 0:00:04\n",
      "     -----------                              0.5/1.7 MB 293.3 kB/s eta 0:00:04\n",
      "     -----------                              0.5/1.7 MB 293.3 kB/s eta 0:00:04\n",
      "     -----------                              0.5/1.7 MB 293.3 kB/s eta 0:00:04\n",
      "     -----------                              0.5/1.7 MB 293.3 kB/s eta 0:00:04\n",
      "     -----------                              0.5/1.7 MB 293.3 kB/s eta 0:00:04\n",
      "     ------------                             0.5/1.7 MB 280.8 kB/s eta 0:00:04\n",
      "     -------------                            0.6/1.7 MB 290.6 kB/s eta 0:00:04\n",
      "     -------------                            0.6/1.7 MB 290.6 kB/s eta 0:00:04\n",
      "     -------------                            0.6/1.7 MB 290.6 kB/s eta 0:00:04\n",
      "     --------------                           0.6/1.7 MB 287.9 kB/s eta 0:00:04\n",
      "     --------------                           0.6/1.7 MB 287.9 kB/s eta 0:00:04\n",
      "     ---------------                          0.6/1.7 MB 291.8 kB/s eta 0:00:04\n",
      "     ----------------                         0.7/1.7 MB 311.2 kB/s eta 0:00:04\n",
      "     ----------------                         0.7/1.7 MB 311.2 kB/s eta 0:00:04\n",
      "     -----------------                        0.7/1.7 MB 314.0 kB/s eta 0:00:03\n",
      "     -----------------                        0.7/1.7 MB 318.6 kB/s eta 0:00:03\n",
      "     ------------------                       0.8/1.7 MB 321.1 kB/s eta 0:00:03\n",
      "     ------------------                       0.8/1.7 MB 323.4 kB/s eta 0:00:03\n",
      "     ------------------                       0.8/1.7 MB 323.4 kB/s eta 0:00:03\n",
      "     -------------------                      0.8/1.7 MB 327.6 kB/s eta 0:00:03\n",
      "     -------------------                      0.8/1.7 MB 327.6 kB/s eta 0:00:03\n",
      "     --------------------                     0.8/1.7 MB 327.6 kB/s eta 0:00:03\n",
      "     --------------------                     0.8/1.7 MB 327.6 kB/s eta 0:00:03\n",
      "     ---------------------                    0.9/1.7 MB 333.4 kB/s eta 0:00:03\n",
      "     ---------------------                    0.9/1.7 MB 333.4 kB/s eta 0:00:03\n",
      "     ---------------------                    0.9/1.7 MB 333.4 kB/s eta 0:00:03\n",
      "     ---------------------                    0.9/1.7 MB 333.4 kB/s eta 0:00:03\n",
      "     ---------------------                    0.9/1.7 MB 333.4 kB/s eta 0:00:03\n",
      "     ---------------------                    0.9/1.7 MB 333.4 kB/s eta 0:00:03\n",
      "     ---------------------                    0.9/1.7 MB 333.4 kB/s eta 0:00:03\n",
      "     -----------------------                  1.0/1.7 MB 329.4 kB/s eta 0:00:03\n",
      "     -----------------------                  1.0/1.7 MB 329.4 kB/s eta 0:00:03\n",
      "     -----------------------                  1.0/1.7 MB 329.4 kB/s eta 0:00:03\n",
      "     ------------------------                 1.0/1.7 MB 319.4 kB/s eta 0:00:03\n",
      "     ------------------------                 1.0/1.7 MB 319.4 kB/s eta 0:00:03\n",
      "     --------------------------               1.1/1.7 MB 332.5 kB/s eta 0:00:02\n",
      "     --------------------------               1.1/1.7 MB 332.5 kB/s eta 0:00:02\n",
      "     --------------------------               1.1/1.7 MB 335.5 kB/s eta 0:00:02\n",
      "     --------------------------               1.1/1.7 MB 335.5 kB/s eta 0:00:02\n",
      "     --------------------------               1.1/1.7 MB 335.5 kB/s eta 0:00:02\n",
      "     ---------------------------              1.1/1.7 MB 333.6 kB/s eta 0:00:02\n",
      "     ---------------------------              1.1/1.7 MB 333.6 kB/s eta 0:00:02\n",
      "     ---------------------------              1.1/1.7 MB 333.6 kB/s eta 0:00:02\n",
      "     ---------------------------              1.1/1.7 MB 333.6 kB/s eta 0:00:02\n",
      "     ---------------------------              1.1/1.7 MB 333.6 kB/s eta 0:00:02\n",
      "     ----------------------------             1.2/1.7 MB 326.2 kB/s eta 0:00:02\n",
      "     ----------------------------             1.2/1.7 MB 326.2 kB/s eta 0:00:02\n",
      "     -----------------------------            1.2/1.7 MB 329.1 kB/s eta 0:00:02\n",
      "     -----------------------------            1.2/1.7 MB 329.1 kB/s eta 0:00:02\n",
      "     ------------------------------           1.3/1.7 MB 329.0 kB/s eta 0:00:02\n",
      "     ------------------------------           1.3/1.7 MB 329.0 kB/s eta 0:00:02\n",
      "     ------------------------------           1.3/1.7 MB 329.0 kB/s eta 0:00:02\n",
      "     ------------------------------           1.3/1.7 MB 329.0 kB/s eta 0:00:02\n",
      "     ------------------------------           1.3/1.7 MB 329.0 kB/s eta 0:00:02\n",
      "     ------------------------------           1.3/1.7 MB 329.0 kB/s eta 0:00:02\n",
      "     ------------------------------           1.3/1.7 MB 329.0 kB/s eta 0:00:02\n",
      "     -------------------------------          1.3/1.7 MB 310.3 kB/s eta 0:00:02\n",
      "     -------------------------------          1.3/1.7 MB 310.3 kB/s eta 0:00:02\n",
      "     --------------------------------         1.3/1.7 MB 317.9 kB/s eta 0:00:01\n",
      "     --------------------------------         1.3/1.7 MB 317.9 kB/s eta 0:00:01\n",
      "     --------------------------------         1.3/1.7 MB 317.9 kB/s eta 0:00:01\n",
      "     --------------------------------         1.4/1.7 MB 309.9 kB/s eta 0:00:01\n",
      "     --------------------------------         1.4/1.7 MB 309.9 kB/s eta 0:00:01\n",
      "     ---------------------------------        1.4/1.7 MB 314.8 kB/s eta 0:00:01\n",
      "     ---------------------------------        1.4/1.7 MB 314.8 kB/s eta 0:00:01\n",
      "     ----------------------------------       1.4/1.7 MB 314.0 kB/s eta 0:00:01\n",
      "     ----------------------------------       1.4/1.7 MB 314.0 kB/s eta 0:00:01\n",
      "     ----------------------------------       1.4/1.7 MB 314.0 kB/s eta 0:00:01\n",
      "     -----------------------------------      1.5/1.7 MB 317.6 kB/s eta 0:00:01\n",
      "     -----------------------------------      1.5/1.7 MB 317.6 kB/s eta 0:00:01\n",
      "     -----------------------------------      1.5/1.7 MB 317.6 kB/s eta 0:00:01\n",
      "     -----------------------------------      1.5/1.7 MB 317.6 kB/s eta 0:00:01\n",
      "     -----------------------------------      1.5/1.7 MB 317.6 kB/s eta 0:00:01\n",
      "     -----------------------------------      1.5/1.7 MB 317.6 kB/s eta 0:00:01\n",
      "     -----------------------------------      1.5/1.7 MB 317.6 kB/s eta 0:00:01\n",
      "     -----------------------------------      1.5/1.7 MB 317.6 kB/s eta 0:00:01\n",
      "     -----------------------------------      1.5/1.7 MB 317.6 kB/s eta 0:00:01\n",
      "     -----------------------------------      1.5/1.7 MB 317.6 kB/s eta 0:00:01\n",
      "     -----------------------------------      1.5/1.7 MB 317.6 kB/s eta 0:00:01\n",
      "     -----------------------------------      1.5/1.7 MB 317.6 kB/s eta 0:00:01\n",
      "     -----------------------------------      1.5/1.7 MB 317.6 kB/s eta 0:00:01\n",
      "     -----------------------------------      1.5/1.7 MB 317.6 kB/s eta 0:00:01\n",
      "     -----------------------------------      1.5/1.7 MB 317.6 kB/s eta 0:00:01\n",
      "     -----------------------------------      1.5/1.7 MB 317.6 kB/s eta 0:00:01\n",
      "     -----------------------------------      1.5/1.7 MB 317.6 kB/s eta 0:00:01\n",
      "     -----------------------------------      1.5/1.7 MB 317.6 kB/s eta 0:00:01\n",
      "     ------------------------------------     1.5/1.7 MB 275.7 kB/s eta 0:00:01\n",
      "     ------------------------------------     1.5/1.7 MB 275.7 kB/s eta 0:00:01\n",
      "     ------------------------------------     1.5/1.7 MB 275.7 kB/s eta 0:00:01\n",
      "     ------------------------------------     1.5/1.7 MB 275.7 kB/s eta 0:00:01\n",
      "     ------------------------------------     1.5/1.7 MB 275.7 kB/s eta 0:00:01\n",
      "     ------------------------------------     1.5/1.7 MB 275.7 kB/s eta 0:00:01\n",
      "     ------------------------------------     1.5/1.7 MB 275.7 kB/s eta 0:00:01\n",
      "     ------------------------------------     1.5/1.7 MB 275.7 kB/s eta 0:00:01\n",
      "     ------------------------------------     1.5/1.7 MB 275.7 kB/s eta 0:00:01\n",
      "     -------------------------------------    1.5/1.7 MB 261.1 kB/s eta 0:00:01\n",
      "     -------------------------------------    1.5/1.7 MB 261.1 kB/s eta 0:00:01\n",
      "     -------------------------------------    1.5/1.7 MB 261.1 kB/s eta 0:00:01\n",
      "     -------------------------------------    1.6/1.7 MB 259.7 kB/s eta 0:00:01\n",
      "     -------------------------------------    1.6/1.7 MB 259.7 kB/s eta 0:00:01\n",
      "     -------------------------------------    1.6/1.7 MB 259.7 kB/s eta 0:00:01\n",
      "     --------------------------------------   1.6/1.7 MB 259.5 kB/s eta 0:00:01\n",
      "     --------------------------------------   1.6/1.7 MB 259.5 kB/s eta 0:00:01\n",
      "     --------------------------------------   1.6/1.7 MB 259.5 kB/s eta 0:00:01\n",
      "     --------------------------------------   1.6/1.7 MB 259.5 kB/s eta 0:00:01\n",
      "     --------------------------------------   1.6/1.7 MB 259.5 kB/s eta 0:00:01\n",
      "     --------------------------------------   1.6/1.7 MB 259.5 kB/s eta 0:00:01\n",
      "     --------------------------------------   1.6/1.7 MB 259.5 kB/s eta 0:00:01\n",
      "     --------------------------------------   1.6/1.7 MB 259.5 kB/s eta 0:00:01\n",
      "     --------------------------------------   1.6/1.7 MB 259.5 kB/s eta 0:00:01\n",
      "     --------------------------------------   1.6/1.7 MB 259.5 kB/s eta 0:00:01\n",
      "     --------------------------------------   1.6/1.7 MB 259.5 kB/s eta 0:00:01\n",
      "     --------------------------------------   1.6/1.7 MB 259.5 kB/s eta 0:00:01\n",
      "     --------------------------------------   1.6/1.7 MB 259.5 kB/s eta 0:00:01\n",
      "     ---------------------------------------  1.6/1.7 MB 245.0 kB/s eta 0:00:01\n",
      "     ---------------------------------------- 1.7/1.7 MB 244.3 kB/s eta 0:00:00\n",
      "Installing collected packages: rapidfuzz, Levenshtein, python-Levenshtein\n",
      "Successfully installed Levenshtein-0.25.1 python-Levenshtein-0.25.1 rapidfuzz-3.9.0\n",
      "Note: you may need to restart the kernel to use updated packages.\n"
     ]
    },
    {
     "name": "stderr",
     "output_type": "stream",
     "text": [
      "\n",
      "[notice] A new release of pip is available: 23.1.2 -> 24.0\n",
      "[notice] To update, run: python.exe -m pip install --upgrade pip\n"
     ]
    }
   ],
   "source": [
    "# levenshtein distance\n",
    "%pip install python-Levenshtein"
   ]
  },
  {
   "cell_type": "code",
   "execution_count": 26,
   "metadata": {},
   "outputs": [
    {
     "name": "stdout",
     "output_type": "stream",
     "text": [
      "7\n"
     ]
    }
   ],
   "source": [
    "from Levenshtein import distance\n",
    "print(distance(SeqA, SeqB))"
   ]
  },
  {
   "cell_type": "code",
   "execution_count": 53,
   "metadata": {},
   "outputs": [
    {
     "name": "stdout",
     "output_type": "stream",
     "text": [
      "   GTAGCAGTCTCGACGTAC\n",
      "----------------------\n",
      "A |  *  *      *   * \n",
      "G |*  *  *    *  *   \n",
      "T | *     * *     *  \n",
      "G |*  *  *    *  *   \n",
      "C |    *   * *  *   *\n",
      "T | *     * *     *  \n",
      "A |  *  *      *   * \n",
      "G |*  *  *    *  *   \n",
      "C |    *   * *  *   *\n",
      "T | *     * *     *  \n",
      "C |    *   * *  *   *\n",
      "G |*  *  *    *  *   \n",
      "C |    *   * *  *   *\n",
      "A |  *  *      *   * \n",
      "G |*  *  *    *  *   \n",
      "T | *     * *     *  \n",
      "A |  *  *      *   * \n",
      "C |    *   * *  *   *\n",
      "G |*  *  *    *  *   \n"
     ]
    }
   ],
   "source": [
    "# dot plot\n",
    "def dot_plot(seq1, seq2):\n",
    "    print(\"  \", seq2)\n",
    "    print(\"-\" * (len(seq2) + 4))\n",
    "    for i in range(len(seq1)):\n",
    "        print(seq1[i], \"|\", end=\"\")\n",
    "        for j in range(len(seq2)):\n",
    "            if seq1[i] == seq2[j]:\n",
    "                print(\"*\", end=\"\")\n",
    "            else:\n",
    "                print(\" \", end=\"\")\n",
    "        print()\n",
    "\n",
    "def dot_plot2(seq1, seq2):\n",
    "    print(\"  \", seq2)\n",
    "    print(\"-\" * (len(seq2) + 4))\n",
    "    for x in seq1:\n",
    "        print(x, \"|\", end=\"\")\n",
    "        for y in seq2:\n",
    "            if x == y:\n",
    "                print(\"o\", end=\"\")\n",
    "            else:\n",
    "                print(\" \", end=\"\")\n",
    "        print()\n",
    "\n",
    "dot_plot(SeqA, SeqB)\n",
    "# dot_plot2(SeqA, SeqB)"
   ]
  }
 ],
 "metadata": {
  "kernelspec": {
   "display_name": "Python 3",
   "language": "python",
   "name": "python3"
  },
  "language_info": {
   "codemirror_mode": {
    "name": "ipython",
    "version": 3
   },
   "file_extension": ".py",
   "mimetype": "text/x-python",
   "name": "python",
   "nbconvert_exporter": "python",
   "pygments_lexer": "ipython3",
   "version": "3.11.4"
  }
 },
 "nbformat": 4,
 "nbformat_minor": 2
}
